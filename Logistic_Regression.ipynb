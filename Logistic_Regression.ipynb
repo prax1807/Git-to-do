{
  "nbformat": 4,
  "nbformat_minor": 0,
  "metadata": {
    "colab": {
      "provenance": [],
      "authorship_tag": "ABX9TyOP1v8fvlntf7OuXLVqlHYX",
      "include_colab_link": true
    },
    "kernelspec": {
      "name": "python3",
      "display_name": "Python 3"
    },
    "language_info": {
      "name": "python"
    }
  },
  "cells": [
    {
      "cell_type": "markdown",
      "metadata": {
        "id": "view-in-github",
        "colab_type": "text"
      },
      "source": [
        "<a href=\"https://colab.research.google.com/github/prax1807/Git-to-do/blob/main/Logistic_Regression.ipynb\" target=\"_parent\"><img src=\"https://colab.research.google.com/assets/colab-badge.svg\" alt=\"Open In Colab\"/></a>"
      ]
    },
    {
      "cell_type": "markdown",
      "source": [
        "Extracting the Data from Spam Assasin"
      ],
      "metadata": {
        "id": "S12UDcuI8S3F"
      }
    },
    {
      "cell_type": "code",
      "source": [
        "# prompt: unzip tar.bz file\n",
        "import os\n",
        "import urllib.request\n",
        "import tarfile\n",
        "\n",
        "urllib.request.urlretrieve(\"https://spamassassin.apache.org/old/publiccorpus/20021010_easy_ham.tar.bz2\", \"ham.tar.bz2\")\n",
        "urllib.request.urlretrieve(\"https://spamassassin.apache.org/old/publiccorpus/20021010_spam.tar.bz2\", \"spam.tar.bz2\")\n",
        "\n",
        "# Extract the contents of the tar.bz2 file\n",
        "with tarfile.open(\"ham.tar.bz2\", \"r:bz2\") as tar:\n",
        "    tar.extractall()\n",
        "\n",
        "with tarfile.open(\"spam.tar.bz2\", \"r:bz2\") as tar:\n",
        "    tar.extractall()\n",
        "\n",
        "os.rename('easy_ham', 'ham')"
      ],
      "metadata": {
        "id": "fX-cgxu47Jb4"
      },
      "execution_count": 10,
      "outputs": []
    },
    {
      "cell_type": "code",
      "source": [
        "\n",
        "os.listdir(os.getcwd())"
      ],
      "metadata": {
        "colab": {
          "base_uri": "https://localhost:8080/"
        },
        "id": "mSl466V--7h9",
        "outputId": "9d86e0c6-aaa5-4525-dda1-7ce52316b0f7"
      },
      "execution_count": 16,
      "outputs": [
        {
          "output_type": "execute_result",
          "data": {
            "text/plain": [
              "['.config',\n",
              " '.ipynb_checkpoints',\n",
              " 'ham',\n",
              " 'spam.tar.bz2',\n",
              " 'spam',\n",
              " 'ham.tar.bz2',\n",
              " 'sample_data']"
            ]
          },
          "metadata": {},
          "execution_count": 16
        }
      ]
    },
    {
      "cell_type": "code",
      "source": [
        "import os\n",
        "import pandas as pd\n",
        "def load_emails(directory):\n",
        "    emails = []\n",
        "    labels = []\n",
        "    for label in ['spam', 'ham']:\n",
        "        folder = os.path.join(directory, label)\n",
        "        for filename in os.listdir(folder):\n",
        "            with open(os.path.join(folder, filename), 'r', encoding='latin1') as file:\n",
        "                emails.append(file.read())\n",
        "                labels.append(label)\n",
        "    return emails, labels\n",
        "\n",
        "email,labels = load_emails('/content/')"
      ],
      "metadata": {
        "id": "vs8-CmfJ70k6"
      },
      "execution_count": 19,
      "outputs": []
    },
    {
      "cell_type": "code",
      "source": [
        "labels[0:5]"
      ],
      "metadata": {
        "colab": {
          "base_uri": "https://localhost:8080/"
        },
        "id": "Mq26m2Ol-T10",
        "outputId": "b3ee6b94-9547-4bcf-958f-7fef36e10a55"
      },
      "execution_count": 23,
      "outputs": [
        {
          "output_type": "execute_result",
          "data": {
            "text/plain": [
              "['spam', 'spam', 'spam', 'spam', 'spam']"
            ]
          },
          "metadata": {},
          "execution_count": 23
        }
      ]
    },
    {
      "cell_type": "code",
      "source": [
        "import nltk"
      ],
      "metadata": {
        "id": "UZ0a657j_uKm"
      },
      "execution_count": null,
      "outputs": []
    }
  ]
}