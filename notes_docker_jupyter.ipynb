{
 "cells": [
  {
   "cell_type": "markdown",
   "id": "d36883c3-36ba-41b4-a54a-536b95893c61",
   "metadata": {},
   "source": [
    "<H1>Pyspark with interactive table</H1>"
   ]
  },
  {
   "cell_type": "code",
   "execution_count": 7,
   "id": "b38eb735-62c5-4d8a-879f-a097ee39724a",
   "metadata": {
    "editable": true,
    "slideshow": {
     "slide_type": ""
    },
    "tags": []
   },
   "outputs": [],
   "source": [
    "from pyspark.sql import SparkSession\n",
    "from pyspark.sql.functions import *\n",
    "from multiprocessing import Pool\n",
    "import multiprocessing"
   ]
  },
  {
   "cell_type": "code",
   "execution_count": 8,
   "id": "d93d782a-0bc8-40c6-a7e6-646d4e2aae62",
   "metadata": {},
   "outputs": [],
   "source": [
    "spark  = SparkSession.builder\\\n",
    "                  .master(\"local[*]\")\\\n",
    "                  .config(\"spark.sql.repl.eagerEval.enabled\", \"True\")\\\n",
    "                  .getOrCreate()"
   ]
  },
  {
   "cell_type": "markdown",
   "id": "43cc82c9-b647-4fe7-9d3b-f961deb4e5cc",
   "metadata": {
    "editable": true,
    "slideshow": {
     "slide_type": ""
    },
    "tags": []
   },
   "source": [
    "<H1>Run Jupyter on Docker with shared folder</H1>\n",
    "\n",
    "<code>docker run -d --name jupyter-pyspark-2 -it -p 10000:8888 -p 4040:4040 -v \"Host_Folder\":/home/jovyan/work  -e JUPYTER_TOKEN=\"easy\" --user root -e GRANT_SUDO=yes jupyter/pyspark-notebook</code>\n",
    "\n",
    "<!--https://stackoverflow.com/questions/35616486/embed-code-for-illustration-in-jupyter -->\n"
   ]
  },
  {
   "cell_type": "code",
   "execution_count": 15,
   "id": "913500ab-bbd0-4aed-b95a-78b2ca284143",
   "metadata": {},
   "outputs": [],
   "source": [
    "l_list = []\n",
    "for i in range(0,50):\n",
    "    l_list.append(i)"
   ]
  },
  {
   "cell_type": "code",
   "execution_count": 16,
   "id": "c112318c-4ec7-46cd-9601-24581e012f57",
   "metadata": {},
   "outputs": [],
   "source": [
    "def multi_func(data):\n",
    "    print(data)"
   ]
  },
  {
   "cell_type": "code",
   "execution_count": 24,
   "id": "2eaf8a0d-0a54-456a-856f-ffc002f53fc4",
   "metadata": {},
   "outputs": [],
   "source": [
    "def multi_process(data):\n",
    "  num_processes = 2\n",
    "  with multiprocessing.Pool(processes=num_processes) as pool:\n",
    "    results = pool.map(multi_func, data)\n",
    "  return results"
   ]
  },
  {
   "cell_type": "code",
   "execution_count": null,
   "id": "572fb198-8e56-460e-833b-55ef8117dd22",
   "metadata": {},
   "outputs": [],
   "source": [
    "results = multi_process(l_list)"
   ]
  },
  {
   "cell_type": "code",
   "execution_count": null,
   "id": "b82f8422-2e79-44b2-b23d-594397b5357f",
   "metadata": {},
   "outputs": [],
   "source": [
    "for result in results:\n",
    "    print(result)"
   ]
  },
  {
   "cell_type": "code",
   "execution_count": null,
   "id": "253cd24a-58b9-478b-88a4-1dc20f44d19e",
   "metadata": {},
   "outputs": [],
   "source": []
  },
  {
   "cell_type": "code",
   "execution_count": null,
   "id": "8556f06a-0bfe-47a5-a1e6-421e16e0dd43",
   "metadata": {},
   "outputs": [],
   "source": []
  },
  {
   "cell_type": "code",
   "execution_count": null,
   "id": "b2db9d47-03f8-4636-950f-65de1e7f00d8",
   "metadata": {},
   "outputs": [],
   "source": []
  },
  {
   "cell_type": "code",
   "execution_count": null,
   "id": "3d89956f-03c2-4701-98e4-57bc608241ff",
   "metadata": {},
   "outputs": [],
   "source": []
  },
  {
   "cell_type": "code",
   "execution_count": null,
   "id": "adce1e40-b905-4f7d-81df-4c9dcb41d918",
   "metadata": {},
   "outputs": [],
   "source": []
  },
  {
   "cell_type": "code",
   "execution_count": null,
   "id": "88525652-c2f3-4877-9d59-bb5233c97eac",
   "metadata": {},
   "outputs": [],
   "source": []
  },
  {
   "cell_type": "code",
   "execution_count": null,
   "id": "9cdbe1bc-2eac-4c0d-a6d4-fbae3f15ff19",
   "metadata": {},
   "outputs": [],
   "source": []
  },
  {
   "cell_type": "code",
   "execution_count": null,
   "id": "4375fff3-e818-4fd5-8ff1-1d60c467e673",
   "metadata": {},
   "outputs": [],
   "source": []
  },
  {
   "cell_type": "code",
   "execution_count": null,
   "id": "261272da-7a7e-4cbc-9cbf-e6b86ca45cc2",
   "metadata": {},
   "outputs": [],
   "source": []
  },
  {
   "cell_type": "code",
   "execution_count": null,
   "id": "d3b31685-6f42-4b5f-8ad0-ea8137d409fb",
   "metadata": {},
   "outputs": [],
   "source": []
  }
 ],
 "metadata": {
  "kernelspec": {
   "display_name": "Python 3 (ipykernel)",
   "language": "python",
   "name": "python3"
  },
  "language_info": {
   "codemirror_mode": {
    "name": "ipython",
    "version": 3
   },
   "file_extension": ".py",
   "mimetype": "text/x-python",
   "name": "python",
   "nbconvert_exporter": "python",
   "pygments_lexer": "ipython3",
   "version": "3.11.6"
  }
 },
 "nbformat": 4,
 "nbformat_minor": 5
}
